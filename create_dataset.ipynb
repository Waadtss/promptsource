{
 "cells": [
  {
   "cell_type": "code",
   "execution_count": 1,
   "metadata": {},
   "outputs": [],
   "source": [
    "from datasets import Dataset\n",
    "import pandas as pd\n",
    "from promptsource import DEFAULT_PROMPTSOURCE_CACHE_HOME\n"
   ]
  },
  {
   "cell_type": "code",
   "execution_count": 5,
   "metadata": {},
   "outputs": [
    {
     "data": {
      "text/html": [
       "<div>\n",
       "<style scoped>\n",
       "    .dataframe tbody tr th:only-of-type {\n",
       "        vertical-align: middle;\n",
       "    }\n",
       "\n",
       "    .dataframe tbody tr th {\n",
       "        vertical-align: top;\n",
       "    }\n",
       "\n",
       "    .dataframe thead th {\n",
       "        text-align: right;\n",
       "    }\n",
       "</style>\n",
       "<table border=\"1\" class=\"dataframe\">\n",
       "  <thead>\n",
       "    <tr style=\"text-align: right;\">\n",
       "      <th></th>\n",
       "      <th>Unnamed: 0</th>\n",
       "      <th>Category</th>\n",
       "      <th>Sub-category</th>\n",
       "      <th>Sub-Sub- category</th>\n",
       "      <th>notes</th>\n",
       "      <th>Wrong sentence</th>\n",
       "      <th>Correct sentence</th>\n",
       "      <th>Wrong word</th>\n",
       "      <th>Correct word</th>\n",
       "    </tr>\n",
       "  </thead>\n",
       "  <tbody>\n",
       "    <tr>\n",
       "      <th>0</th>\n",
       "      <td>1.0</td>\n",
       "      <td>speling error</td>\n",
       "      <td>Hamza error</td>\n",
       "      <td>At the beginning of the word</td>\n",
       "      <td>NaN</td>\n",
       "      <td>قال ستكون لدينا عدة أيام بين اعلان اليوم والوق...</td>\n",
       "      <td>قال ستكون لدينا عدة أيام بين إعلان اليوم والوق...</td>\n",
       "      <td>اعلان</td>\n",
       "      <td>إعلان</td>\n",
       "    </tr>\n",
       "    <tr>\n",
       "      <th>1</th>\n",
       "      <td>NaN</td>\n",
       "      <td>speling error</td>\n",
       "      <td>Typo</td>\n",
       "      <td>Extra letter</td>\n",
       "      <td>NaN</td>\n",
       "      <td>عندما ارتدت ميشال أوباما فستانا من تصميم جايسو...</td>\n",
       "      <td>عندما ارتدت ميشال أوباما فستانا من تصميم جايسو...</td>\n",
       "      <td>ووقبل</td>\n",
       "      <td>وقبل</td>\n",
       "    </tr>\n",
       "    <tr>\n",
       "      <th>2</th>\n",
       "      <td>NaN</td>\n",
       "      <td>speling error</td>\n",
       "      <td>Hamza error</td>\n",
       "      <td>At the beginning of the word</td>\n",
       "      <td>NaN</td>\n",
       "      <td>تم بولاية النعامة تلقيح أزيد من ٥٢٠ ألف رأس من...</td>\n",
       "      <td>تم بولاية النعامة تلقيح أزيد من ٥٢٠ ألف رأس من...</td>\n",
       "      <td>امس</td>\n",
       "      <td>أمس</td>\n",
       "    </tr>\n",
       "    <tr>\n",
       "      <th>3</th>\n",
       "      <td>NaN</td>\n",
       "      <td>speling error</td>\n",
       "      <td>Typo</td>\n",
       "      <td>Extra letter</td>\n",
       "      <td>NaN</td>\n",
       "      <td>تشيع بين منظري علم السياسة أربعة تصورات متنافس...</td>\n",
       "      <td>تشيع بين منظري علم السياسة أربعة تصورات متنافس...</td>\n",
       "      <td>الطيطمقراطية</td>\n",
       "      <td>الديمقراطية</td>\n",
       "    </tr>\n",
       "    <tr>\n",
       "      <th>4</th>\n",
       "      <td>NaN</td>\n",
       "      <td>speling error</td>\n",
       "      <td>Typo</td>\n",
       "      <td>Merge two words</td>\n",
       "      <td>NaN</td>\n",
       "      <td>يبدأ المنتخبان الجزائري والتونسي اليوم الأحد ح...</td>\n",
       "      <td>يبدأ المنتخبان الجزائري والتونسي اليوم الأحد ح...</td>\n",
       "      <td>القدمضمن</td>\n",
       "      <td>القدم ضمن</td>\n",
       "    </tr>\n",
       "  </tbody>\n",
       "</table>\n",
       "</div>"
      ],
      "text/plain": [
       "   Unnamed: 0      Category  Sub-category             Sub-Sub- category   \\\n",
       "0         1.0  speling error   Hamza error  At the beginning of the word   \n",
       "1         NaN  speling error          Typo                  Extra letter   \n",
       "2         NaN  speling error   Hamza error  At the beginning of the word   \n",
       "3         NaN  speling error          Typo                  Extra letter   \n",
       "4         NaN  speling error          Typo               Merge two words   \n",
       "\n",
       "  notes                                     Wrong sentence  \\\n",
       "0   NaN  قال ستكون لدينا عدة أيام بين اعلان اليوم والوق...   \n",
       "1   NaN  عندما ارتدت ميشال أوباما فستانا من تصميم جايسو...   \n",
       "2   NaN  تم بولاية النعامة تلقيح أزيد من ٥٢٠ ألف رأس من...   \n",
       "3   NaN  تشيع بين منظري علم السياسة أربعة تصورات متنافس...   \n",
       "4   NaN  يبدأ المنتخبان الجزائري والتونسي اليوم الأحد ح...   \n",
       "\n",
       "                                    Correct sentence    Wrong word  \\\n",
       "0  قال ستكون لدينا عدة أيام بين إعلان اليوم والوق...         اعلان   \n",
       "1  عندما ارتدت ميشال أوباما فستانا من تصميم جايسو...         ووقبل   \n",
       "2  تم بولاية النعامة تلقيح أزيد من ٥٢٠ ألف رأس من...           امس   \n",
       "3  تشيع بين منظري علم السياسة أربعة تصورات متنافس...  الطيطمقراطية   \n",
       "4  يبدأ المنتخبان الجزائري والتونسي اليوم الأحد ح...      القدمضمن   \n",
       "\n",
       "  Correct word  \n",
       "0        إعلان  \n",
       "1         وقبل  \n",
       "2          أمس  \n",
       "3  الديمقراطية  \n",
       "4    القدم ضمن  "
      ]
     },
     "execution_count": 5,
     "metadata": {},
     "output_type": "execute_result"
    }
   ],
   "source": [
    "\n",
    "# Example Pandas DataFrame\n",
    "df = pd.read_csv('/Users/w3dth/Desktop/KSAA/benchmarkDataset/GEC evaluation Data.csv')\n",
    "\n",
    "df.head()"
   ]
  },
  {
   "cell_type": "code",
   "execution_count": 6,
   "metadata": {},
   "outputs": [
    {
     "data": {
      "text/plain": [
       "Index(['Unnamed: 0', 'Category ', 'Sub-category ', 'Sub-Sub- category ',\n",
       "       'notes', 'Wrong sentence', 'Correct sentence', 'Wrong word',\n",
       "       'Correct word'],\n",
       "      dtype='object')"
      ]
     },
     "execution_count": 6,
     "metadata": {},
     "output_type": "execute_result"
    }
   ],
   "source": [
    "df.columns"
   ]
  },
  {
   "cell_type": "code",
   "execution_count": 7,
   "metadata": {},
   "outputs": [
    {
     "data": {
      "text/plain": [
       "syntactic error      304\n",
       "speling error        301\n",
       "punctuation error    297\n",
       "Name: Category , dtype: int64"
      ]
     },
     "execution_count": 7,
     "metadata": {},
     "output_type": "execute_result"
    }
   ],
   "source": [
    "df['Category '].value_counts()"
   ]
  },
  {
   "cell_type": "code",
   "execution_count": 8,
   "metadata": {},
   "outputs": [],
   "source": [
    "speling_error=df[df['Category ']=='speling error'][:150]"
   ]
  },
  {
   "cell_type": "code",
   "execution_count": 9,
   "metadata": {},
   "outputs": [
    {
     "data": {
      "text/plain": [
       "150"
      ]
     },
     "execution_count": 9,
     "metadata": {},
     "output_type": "execute_result"
    }
   ],
   "source": [
    "len(speling_error)"
   ]
  },
  {
   "cell_type": "code",
   "execution_count": 10,
   "metadata": {},
   "outputs": [],
   "source": [
    "syntactic_error= df[df['Category ']=='syntactic error'][:150] \n",
    "punctuation_error= df[df['Category ']=='punctuation error'][:150]"
   ]
  },
  {
   "cell_type": "code",
   "execution_count": 11,
   "metadata": {},
   "outputs": [
    {
     "name": "stdout",
     "output_type": "stream",
     "text": [
      "150 150\n"
     ]
    }
   ],
   "source": [
    "print(len(syntactic_error), len(punctuation_error))"
   ]
  },
  {
   "cell_type": "code",
   "execution_count": 12,
   "metadata": {},
   "outputs": [],
   "source": [
    "dataset = Dataset.from_pandas(speling_error)"
   ]
  },
  {
   "cell_type": "code",
   "execution_count": 14,
   "metadata": {},
   "outputs": [
    {
     "data": {
      "application/vnd.jupyter.widget-view+json": {
       "model_id": "f19c3c7a4beb4b2e888120305fde19b8",
       "version_major": 2,
       "version_minor": 0
      },
      "text/plain": [
       "Saving the dataset (0/1 shards):   0%|          | 0/150 [00:00<?, ? examples/s]"
      ]
     },
     "metadata": {},
     "output_type": "display_data"
    }
   ],
   "source": [
    "dataset.save_to_disk(DEFAULT_PROMPTSOURCE_CACHE_HOME+'/speling_error')"
   ]
  },
  {
   "cell_type": "code",
   "execution_count": 15,
   "metadata": {},
   "outputs": [
    {
     "data": {
      "application/vnd.jupyter.widget-view+json": {
       "model_id": "f777f8f642d641559c9fb055c922935a",
       "version_major": 2,
       "version_minor": 0
      },
      "text/plain": [
       "Saving the dataset (0/1 shards):   0%|          | 0/150 [00:00<?, ? examples/s]"
      ]
     },
     "metadata": {},
     "output_type": "display_data"
    },
    {
     "data": {
      "application/vnd.jupyter.widget-view+json": {
       "model_id": "36249f7131624219b2cba28685f1106f",
       "version_major": 2,
       "version_minor": 0
      },
      "text/plain": [
       "Saving the dataset (0/1 shards):   0%|          | 0/150 [00:00<?, ? examples/s]"
      ]
     },
     "metadata": {},
     "output_type": "display_data"
    }
   ],
   "source": [
    "dataset_syntactic_error = Dataset.from_pandas(syntactic_error)\n",
    "dataset_punctuation_error = Dataset.from_pandas(punctuation_error)\n",
    "\n",
    "dataset_syntactic_error.save_to_disk(DEFAULT_PROMPTSOURCE_CACHE_HOME+'/syntactic_error')\n",
    "dataset_punctuation_error.save_to_disk(DEFAULT_PROMPTSOURCE_CACHE_HOME+'/punctuation_error')"
   ]
  },
  {
   "cell_type": "code",
   "execution_count": null,
   "metadata": {},
   "outputs": [],
   "source": [
    "## save the dataset"
   ]
  }
 ],
 "metadata": {
  "interpreter": {
   "hash": "a65eeb80ec0e6148828b73aec06fd1a5512940d870e393effe3af781642a59d3"
  },
  "kernelspec": {
   "display_name": "Python 3.7.13 ('ksaa')",
   "language": "python",
   "name": "python3"
  },
  "language_info": {
   "codemirror_mode": {
    "name": "ipython",
    "version": 3
   },
   "file_extension": ".py",
   "mimetype": "text/x-python",
   "name": "python",
   "nbconvert_exporter": "python",
   "pygments_lexer": "ipython3",
   "version": "3.7.13"
  }
 },
 "nbformat": 4,
 "nbformat_minor": 2
}
